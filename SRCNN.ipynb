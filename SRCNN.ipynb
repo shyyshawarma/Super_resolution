{
  "nbformat": 4,
  "nbformat_minor": 0,
  "metadata": {
    "colab": {
      "provenance": [],
      "gpuType": "V28"
    },
    "kernelspec": {
      "name": "python3",
      "display_name": "Python 3"
    },
    "language_info": {
      "name": "python"
    },
    "accelerator": "TPU"
  },
  "cells": [
    {
      "cell_type": "code",
      "execution_count": null,
      "metadata": {
        "id": "OfPjW_c8U6vQ",
        "colab": {
          "base_uri": "https://localhost:8080/"
        },
        "outputId": "509b7e75-d990-473b-807f-03979bfaf7d6"
      },
      "outputs": [
        {
          "output_type": "stream",
          "name": "stdout",
          "text": [
            "/content/drive/MyDrive/Colab Notebooks/SRCNN_Pytorch\n"
          ]
        }
      ],
      "source": [
        "%cd /content/drive/MyDrive/Colab Notebooks/SRCNN_Pytorch"
      ]
    },
    {
      "cell_type": "code",
      "source": [
        "!git clone https://github.com/kymikim0401/SRCNN_Pytorch"
      ],
      "metadata": {
        "colab": {
          "base_uri": "https://localhost:8080/"
        },
        "id": "TIhyaxQ3WzwV",
        "outputId": "a5239b62-af9c-4fd9-f9b1-ffa82ad17d09"
      },
      "execution_count": null,
      "outputs": [
        {
          "output_type": "stream",
          "name": "stdout",
          "text": [
            "Cloning into 'SRCNN_Pytorch'...\n",
            "remote: Enumerating objects: 23, done.\u001b[K\n",
            "remote: Counting objects: 100% (23/23), done.\u001b[K\n",
            "remote: Compressing objects: 100% (18/18), done.\u001b[K\n",
            "remote: Total 23 (delta 1), reused 19 (delta 0), pack-reused 0 (from 0)\u001b[K\n",
            "Receiving objects: 100% (23/23), 469.20 KiB | 14.22 MiB/s, done.\n",
            "Resolving deltas: 100% (1/1), done.\n"
          ]
        }
      ]
    },
    {
      "cell_type": "code",
      "source": [
        "!python train.py"
      ],
      "metadata": {
        "colab": {
          "base_uri": "https://localhost:8080/"
        },
        "id": "UKs-AK8AW7zF",
        "outputId": "290ef294-ba9e-4a72-94de-27deefc45b76"
      },
      "execution_count": null,
      "outputs": [
        {
          "output_type": "stream",
          "name": "stdout",
          "text": [
            "===> Epoch 1 of 50\n",
            "Train PSNR: 11.322, Val PSNR 14.525, time: 129.06\n",
            "===> Epoch 2 of 50\n",
            "Train PSNR: 12.636, Val PSNR 14.762, time: 144.77\n",
            "===> Epoch 3 of 50\n",
            "Train PSNR: 12.686, Val PSNR 14.767, time: 160.76\n",
            "===> Epoch 4 of 50\n",
            "Train PSNR: 12.701, Val PSNR 14.761, time: 176.17\n",
            "===> Epoch 5 of 50\n",
            "Train PSNR: 12.695, Val PSNR 14.770, time: 191.78\n",
            "===> Epoch 6 of 50\n",
            "Train PSNR: 12.705, Val PSNR 14.777, time: 207.55\n",
            "===> Epoch 7 of 50\n",
            "Train PSNR: 12.709, Val PSNR 14.784, time: 223.08\n",
            "===> Epoch 8 of 50\n",
            "Train PSNR: 12.713, Val PSNR 14.788, time: 238.68\n",
            "===> Epoch 9 of 50\n",
            "Train PSNR: 12.716, Val PSNR 14.795, time: 254.81\n",
            "===> Epoch 10 of 50\n",
            "Train PSNR: 12.720, Val PSNR 14.798, time: 270.19\n",
            "===> Epoch 11 of 50\n",
            "Train PSNR: 12.723, Val PSNR 14.802, time: 285.78\n",
            "===> Epoch 12 of 50\n",
            "Train PSNR: 12.725, Val PSNR 14.804, time: 301.37\n",
            "===> Epoch 13 of 50\n",
            "Train PSNR: 12.727, Val PSNR 14.806, time: 317.45\n",
            "===> Epoch 14 of 50\n",
            "Train PSNR: 12.728, Val PSNR 14.808, time: 333.82\n",
            "===> Epoch 15 of 50\n",
            "Train PSNR: 12.730, Val PSNR 14.811, time: 349.58\n",
            "===> Epoch 16 of 50\n",
            "Train PSNR: 12.731, Val PSNR 14.813, time: 365.31\n",
            "===> Epoch 17 of 50\n",
            "Train PSNR: 12.732, Val PSNR 14.815, time: 381.04\n",
            "===> Epoch 18 of 50\n",
            "Train PSNR: 12.733, Val PSNR 14.817, time: 396.84\n",
            "===> Epoch 19 of 50\n",
            "Train PSNR: 12.734, Val PSNR 14.818, time: 412.59\n",
            "===> Epoch 20 of 50\n",
            "Train PSNR: 12.735, Val PSNR 14.820, time: 428.30\n",
            "===> Epoch 21 of 50\n",
            "Train PSNR: 12.736, Val PSNR 14.821, time: 444.16\n",
            "===> Epoch 22 of 50\n",
            "Train PSNR: 12.737, Val PSNR 14.822, time: 460.08\n",
            "===> Epoch 23 of 50\n",
            "Train PSNR: 12.738, Val PSNR 14.823, time: 475.78\n",
            "===> Epoch 24 of 50\n",
            "Train PSNR: 12.739, Val PSNR 14.824, time: 491.27\n",
            "===> Epoch 25 of 50\n",
            "Train PSNR: 12.739, Val PSNR 14.825, time: 506.87\n",
            "===> Epoch 26 of 50\n",
            "Train PSNR: 12.740, Val PSNR 14.826, time: 522.39\n",
            "===> Epoch 27 of 50\n",
            "Train PSNR: 12.740, Val PSNR 14.827, time: 538.07\n",
            "===> Epoch 28 of 50\n",
            "Train PSNR: 12.741, Val PSNR 14.828, time: 553.82\n",
            "===> Epoch 29 of 50\n",
            "Train PSNR: 12.741, Val PSNR 14.829, time: 569.55\n",
            "===> Epoch 30 of 50\n",
            "Train PSNR: 12.742, Val PSNR 14.830, time: 585.24\n",
            "===> Epoch 31 of 50\n",
            "Train PSNR: 12.742, Val PSNR 14.830, time: 600.67\n",
            "===> Epoch 32 of 50\n",
            "Train PSNR: 12.743, Val PSNR 14.831, time: 616.13\n",
            "===> Epoch 33 of 50\n",
            "Train PSNR: 12.743, Val PSNR 14.831, time: 631.46\n",
            "===> Epoch 34 of 50\n",
            "Train PSNR: 12.744, Val PSNR 14.832, time: 646.94\n",
            "===> Epoch 35 of 50\n",
            "Train PSNR: 12.744, Val PSNR 14.832, time: 662.33\n",
            "===> Epoch 36 of 50\n",
            "Train PSNR: 12.744, Val PSNR 14.833, time: 678.09\n",
            "===> Epoch 37 of 50\n",
            "Train PSNR: 12.745, Val PSNR 14.833, time: 693.68\n",
            "===> Epoch 38 of 50\n",
            "Train PSNR: 12.745, Val PSNR 14.834, time: 709.06\n",
            "===> Epoch 39 of 50\n",
            "Train PSNR: 12.745, Val PSNR 14.834, time: 724.39\n",
            "===> Epoch 40 of 50\n",
            "Train PSNR: 12.746, Val PSNR 14.835, time: 739.91\n",
            "===> Epoch 41 of 50\n",
            "Train PSNR: 12.746, Val PSNR 14.835, time: 755.45\n",
            "===> Epoch 42 of 50\n",
            "Train PSNR: 12.746, Val PSNR 14.835, time: 771.20\n",
            "===> Epoch 43 of 50\n",
            "Train PSNR: 12.747, Val PSNR 14.835, time: 786.47\n",
            "===> Epoch 44 of 50\n",
            "Train PSNR: 12.747, Val PSNR 14.836, time: 801.92\n",
            "===> Epoch 45 of 50\n",
            "Train PSNR: 12.747, Val PSNR 14.835, time: 817.24\n",
            "===> Epoch 46 of 50\n",
            "Train PSNR: 12.748, Val PSNR 14.836, time: 832.67\n",
            "===> Epoch 47 of 50\n",
            "Train PSNR: 12.748, Val PSNR 14.835, time: 848.40\n",
            "===> Epoch 48 of 50\n",
            "Train PSNR: 12.748, Val PSNR 14.836, time: 863.98\n",
            "===> Epoch 49 of 50\n",
            "Train PSNR: 12.748, Val PSNR 14.836, time: 879.42\n",
            "===> Epoch 50 of 50\n",
            "Train PSNR: 12.749, Val PSNR 14.836, time: 894.74\n",
            "Figure(1000x700)\n",
            "Figure(1000x700)\n"
          ]
        }
      ]
    },
    {
      "cell_type": "code",
      "source": [
        "%cd /content/drive/MyDrive/Colab Notebooks/SRCNN_Pytorch"
      ],
      "metadata": {
        "colab": {
          "base_uri": "https://localhost:8080/"
        },
        "id": "LRzZ1lD9gXIU",
        "outputId": "90dc36d9-d263-4154-cba9-0772e8b442ba"
      },
      "execution_count": null,
      "outputs": [
        {
          "output_type": "stream",
          "name": "stdout",
          "text": [
            "/content/drive/MyDrive/Colab Notebooks/SRCNN_Pytorch\n"
          ]
        }
      ]
    },
    {
      "cell_type": "code",
      "source": [
        "!python dataset.py"
      ],
      "metadata": {
        "id": "oogwruUCpb5i"
      },
      "execution_count": null,
      "outputs": []
    },
    {
      "cell_type": "markdown",
      "source": [],
      "metadata": {
        "id": "t4xsWM7nuiEn"
      }
    },
    {
      "cell_type": "code",
      "source": [
        "!python test.py"
      ],
      "metadata": {
        "colab": {
          "base_uri": "https://localhost:8080/"
        },
        "id": "8aUvSR9IgbA9",
        "outputId": "f9bcba6d-f2c5-4ecd-8601-0e0ff2e7e6a4"
      },
      "execution_count": null,
      "outputs": [
        {
          "output_type": "stream",
          "name": "stdout",
          "text": [
            "102061.png | PSNR: 22.30 dB | SSIM: 0.6733\n",
            "109053.png | PSNR: 24.42 dB | SSIM: 0.6496\n",
            "12084.png | PSNR: 22.36 dB | SSIM: 0.5081\n",
            "157055.png | PSNR: 21.47 dB | SSIM: 0.5669\n",
            "170057.png | PSNR: 24.50 dB | SSIM: 0.6480\n",
            "19021.png | PSNR: 21.66 dB | SSIM: 0.5251\n",
            "196073.png | PSNR: 25.35 dB | SSIM: 0.4184\n",
            "197017.png | PSNR: 23.35 dB | SSIM: 0.5530\n",
            "219090.png | PSNR: 22.12 dB | SSIM: 0.6058\n",
            "291000.png | PSNR: 18.52 dB | SSIM: 0.2161\n",
            "306005.png | PSNR: 22.76 dB | SSIM: 0.5759\n",
            "3096.png | PSNR: 30.25 dB | SSIM: 0.9188\n",
            "38082.png | PSNR: 23.54 dB | SSIM: 0.4200\n",
            "42012.png | PSNR: 24.00 dB | SSIM: 0.6342\n",
            "43074.png | PSNR: 26.42 dB | SSIM: 0.7309\n",
            "45096.png | PSNR: 28.41 dB | SSIM: 0.8471\n",
            "69020.png | PSNR: 23.52 dB | SSIM: 0.3730\n",
            "85048.png | PSNR: 20.29 dB | SSIM: 0.4397\n",
            "86016.png | PSNR: 19.83 dB | SSIM: 0.1736\n",
            "86068.png | PSNR: 24.03 dB | SSIM: 0.4258\n",
            "\n",
            "Average PSNR: 23.46 dB\n",
            "Average SSIM: 0.5452\n"
          ]
        }
      ]
    },
    {
      "cell_type": "code",
      "source": [
        "import cv2\n",
        "import torch\n",
        "from torchvision.transforms import ToTensor\n",
        "from SRCNN_model import SRCNN\n",
        "\n",
        "def super_resolve_image(path_to_lr_img, model_path='checkpoints/model.pth', scale=4):\n",
        "    # 1) Read LR BGR image\n",
        "    lr_bgr = cv2.imread(path_to_lr_img)\n",
        "    h, w = lr_bgr.shape[:2]\n",
        "\n",
        "    # 2) Convert to YCrCb and split\n",
        "    lr_ycrcb = cv2.cvtColor(lr_bgr, cv2.COLOR_BGR2YCrCb)\n",
        "    y, cr, cb = cv2.split(lr_ycrcb)\n",
        "\n",
        "    # 3) Upsample each channel to (h*scale, w*scale)\n",
        "    new_h, new_w = h * scale, w * scale\n",
        "    y_up  = cv2.resize(y,  (new_w, new_h), interpolation=cv2.INTER_CUBIC)\n",
        "    cr_up = cv2.resize(cr, (new_w, new_h), interpolation=cv2.INTER_CUBIC)\n",
        "    cb_up = cv2.resize(cb, (new_w, new_h), interpolation=cv2.INTER_CUBIC)\n",
        "\n",
        "    # 4) Normalize Y and make a [1,1,H,W] tensor\n",
        "    input_y = ToTensor()(y_up).unsqueeze(0).to(\"cuda\")  # values in [0,1]\n",
        "\n",
        "    # 5) Load and run SRCNN\n",
        "    model = SRCNN().to(\"cuda\")\n",
        "    model.load_state_dict(torch.load(model_path))\n",
        "    model.eval()\n",
        "    with torch.no_grad():\n",
        "        pred_y = model(input_y)             # [1,1,H,W] output\n",
        "        pred_y = pred_y.squeeze().cpu().numpy()  # [H,W] in [0,1]\n",
        "\n",
        "    # 6) Denormalize and clip to uint8\n",
        "    pred_y = (pred_y * 255.0).clip(0,255).astype('uint8')\n",
        "\n",
        "    # 7) Merge back with the upsampled Cr/Cb\n",
        "    out_ycrcb = cv2.merge((pred_y, cr_up, cb_up))\n",
        "    out_bgr   = cv2.cvtColor(out_ycrcb, cv2.COLOR_YCrCb2BGR)\n",
        "\n",
        "    return out_bgr\n",
        "\n",
        "# Usage example:\n",
        "output = super_resolve_image(\n",
        "    \"dataset_img/test/low_res/69020.png\",\n",
        "    model_path=\"checkpoints/model.pth\"\n",
        ")\n",
        "cv2.imwrite(\"output_4x.png\", output)"
      ],
      "metadata": {
        "id": "fP69-PPTsY61"
      },
      "execution_count": null,
      "outputs": []
    }
  ]
}